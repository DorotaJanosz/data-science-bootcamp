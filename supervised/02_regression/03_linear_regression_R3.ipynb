{
  "nbformat": 4,
  "nbformat_minor": 0,
  "metadata": {
    "colab": {
      "name": "03_linear_regression_R3.ipynb",
      "provenance": [],
      "authorship_tag": "ABX9TyN1ClXU4OBlE0aEtdxuTy/0",
      "include_colab_link": true
    },
    "kernelspec": {
      "name": "python3",
      "display_name": "Python 3"
    }
  },
  "cells": [
    {
      "cell_type": "markdown",
      "metadata": {
        "id": "view-in-github",
        "colab_type": "text"
      },
      "source": [
        "<a href=\"https://colab.research.google.com/github/DorotaJanosz/data-science-bootcamp/blob/master/supervised/02_regression/03_linear_regression_R3.ipynb\" target=\"_parent\"><img src=\"https://colab.research.google.com/assets/colab-badge.svg\" alt=\"Open In Colab\"/></a>"
      ]
    },
    {
      "cell_type": "code",
      "metadata": {
        "id": "7gReeB7Ri3d2",
        "colab_type": "code",
        "colab": {
          "base_uri": "https://localhost:8080/",
          "height": 73
        },
        "outputId": "26f76e2e-8dfc-4f96-cacf-3e8fabb79bec"
      },
      "source": [
        "import numpy as np\n",
        "import pandas as pd\n",
        "import sklearn\n",
        "import matplotlib.pyplot as plt\n",
        "import seaborn as sns\n",
        "sns.set(font_scale=1.3)\n",
        "\n",
        "np.random.seed(42)\n",
        "np.set_printoptions(precision=6, suppress=True, edgeitems=30, linewidth=120, formatter=dict(float=lambda x: f'{x:.2f}'))\n",
        "\n",
        "\n"
      ],
      "execution_count": 3,
      "outputs": [
        {
          "output_type": "stream",
          "text": [
            "/usr/local/lib/python3.6/dist-packages/statsmodels/tools/_testing.py:19: FutureWarning: pandas.util.testing is deprecated. Use the functions in the public API at pandas.testing instead.\n",
            "  import pandas.util.testing as tm\n"
          ],
          "name": "stderr"
        }
      ]
    },
    {
      "cell_type": "code",
      "metadata": {
        "id": "TBsHVML_kQD8",
        "colab_type": "code",
        "colab": {
          "base_uri": "https://localhost:8080/",
          "height": 53
        },
        "outputId": "ee66097b-f13b-45b4-c179-25030606d628"
      },
      "source": [
        "from sklearn.datasets import make_regression\n",
        "\n",
        "data, target = make_regression(n_samples=100, n_features=1, n_targets=1, noise=30.0, random_state=42)\n",
        "\n",
        "print(f'data shape: {data.shape}')\n",
        "print(f'target shape: {target.shape}')"
      ],
      "execution_count": 4,
      "outputs": [
        {
          "output_type": "stream",
          "text": [
            "data shape: (100, 1)\n",
            "target shape: (100,)\n"
          ],
          "name": "stdout"
        }
      ]
    },
    {
      "cell_type": "code",
      "metadata": {
        "id": "L_3FmXUxkl6t",
        "colab_type": "code",
        "colab": {
          "base_uri": "https://localhost:8080/",
          "height": 108
        },
        "outputId": "ce39bf72-35e1-4a72-a112-6fdda99f504f"
      },
      "source": [
        "data[:5]"
      ],
      "execution_count": 5,
      "outputs": [
        {
          "output_type": "execute_result",
          "data": {
            "text/plain": [
              "array([[0.93],\n",
              "       [0.09],\n",
              "       [-1.06],\n",
              "       [0.31],\n",
              "       [-0.48]])"
            ]
          },
          "metadata": {
            "tags": []
          },
          "execution_count": 5
        }
      ]
    },
    {
      "cell_type": "code",
      "metadata": {
        "id": "KuzqlmAqmNnq",
        "colab_type": "code",
        "colab": {
          "base_uri": "https://localhost:8080/",
          "height": 35
        },
        "outputId": "db946d06-5ef5-484c-8a5c-1c2733301458"
      },
      "source": [
        "target[:5]"
      ],
      "execution_count": 6,
      "outputs": [
        {
          "output_type": "execute_result",
          "data": {
            "text/plain": [
              "array([74.59, -37.46, -16.46, 5.35, -13.21])"
            ]
          },
          "metadata": {
            "tags": []
          },
          "execution_count": 6
        }
      ]
    },
    {
      "cell_type": "code",
      "metadata": {
        "id": "8OFz_mO0mceO",
        "colab_type": "code",
        "colab": {
          "base_uri": "https://localhost:8080/",
          "height": 418
        },
        "outputId": "cf617f73-c214-4317-8510-60820a596c4e"
      },
      "source": [
        "plt.figure(figsize=(8,6))\n",
        "plt.title('Regresja liniowa')\n",
        "plt.xlabel('cecha x')\n",
        "plt.ylabel('zmienna docelowa')\n",
        "plt.scatter(data, target, label='cecha x')\n",
        "plt.legend()\n",
        "plt.show()"
      ],
      "execution_count": 7,
      "outputs": [
        {
          "output_type": "display_data",
          "data": {
            "image/png": "[encoded data removed]",
            "text/plain": [
              "<Figure size 576x432 with 1 Axes>"
            ]
          },
          "metadata": {
            "tags": []
          }
        }
      ]
    },
    {
      "cell_type": "markdown",
      "metadata": {
        "id": "EQCA0E-fotGe",
        "colab_type": "text"
      },
      "source": [
        "###Regresja liniowa przy uzyciu scikit-learn"
      ]
    },
    {
      "cell_type": "code",
      "metadata": {
        "id": "EBUwdsnYnUwh",
        "colab_type": "code",
        "colab": {
          "base_uri": "https://localhost:8080/",
          "height": 35
        },
        "outputId": "d68ed740-a159-43ee-cb7f-087fad3ca533"
      },
      "source": [
        "from sklearn.linear_model import LinearRegression\n",
        "\n",
        "regressor = LinearRegression()\n",
        "regressor.fit(data, target)"
      ],
      "execution_count": 8,
      "outputs": [
        {
          "output_type": "execute_result",
          "data": {
            "text/plain": [
              "LinearRegression(copy_X=True, fit_intercept=True, n_jobs=None, normalize=False)"
            ]
          },
          "metadata": {
            "tags": []
          },
          "execution_count": 8
        }
      ]
    },
    {
      "cell_type": "code",
      "metadata": {
        "id": "UN_lklLCorcy",
        "colab_type": "code",
        "colab": {
          "base_uri": "https://localhost:8080/",
          "height": 35
        },
        "outputId": "766c3785-5c18-43a0-83f8-91c575e16048"
      },
      "source": [
        "regressor.score(data, target) "
      ],
      "execution_count": 10,
      "outputs": [
        {
          "output_type": "execute_result",
          "data": {
            "text/plain": [
              "0.7426670084336404"
            ]
          },
          "metadata": {
            "tags": []
          },
          "execution_count": 10
        }
      ]
    },
    {
      "cell_type": "code",
      "metadata": {
        "id": "3tnkEt6mpY1S",
        "colab_type": "code",
        "colab": {}
      },
      "source": [
        "y_pred = regressor.predict(data)\n",
        "y_pred"
      ],
      "execution_count": 0,
      "outputs": []
    },
    {
      "cell_type": "markdown",
      "metadata": {
        "id": "LSi5jGG0qJmc",
        "colab_type": "text"
      },
      "source": [
        "###Wizualizacja graficzna modelu"
      ]
    },
    {
      "cell_type": "code",
      "metadata": {
        "id": "NadPK1onp03j",
        "colab_type": "code",
        "colab": {}
      },
      "source": [
        "plt.figure(figsize=(8,6))\n",
        "plt.title('Regresja liniowa')\n",
        "plt.xlabel('cecha x')\n",
        "plt.ylabel('zmienna docelowa')\n",
        "plt.scatter(data, target, label='cecha x')\n",
        "plt.plot(data, y_pred, color='red', label='model')\n",
        "plt.legend()\n",
        "plt.show()"
      ],
      "execution_count": 0,
      "outputs": []
    },
    {
      "cell_type": "code",
      "metadata": {
        "id": "Tu9Wui8jqm_-",
        "colab_type": "code",
        "colab": {}
      },
      "source": [
        "regressor.coef_"
      ],
      "execution_count": 0,
      "outputs": []
    },
    {
      "cell_type": "code",
      "metadata": {
        "id": "Hp_VT0WWrjJC",
        "colab_type": "code",
        "colab": {}
      },
      "source": [
        "regressor.intercept_"
      ],
      "execution_count": 0,
      "outputs": []
    },
    {
      "cell_type": "code",
      "metadata": {
        "id": "tC2VvVBdrnrw",
        "colab_type": "code",
        "colab": {}
      },
      "source": [
        "[item for item in dir(regressor) if not item.startswith('_')] #wyświetla możliwe atrybuty dla regressor"
      ],
      "execution_count": 0,
      "outputs": []
    },
    {
      "cell_type": "markdown",
      "metadata": {
        "id": "UWeLRTdctVCK",
        "colab_type": "text"
      },
      "source": [
        "###Końcowa postać modelu"
      ]
    },
    {
      "cell_type": "code",
      "metadata": {
        "id": "hTG22kWqs5s_",
        "colab_type": "code",
        "colab": {}
      },
      "source": [
        "plt.figure(figsize=(8,6))\n",
        "plt.title('Regresja liniowa')\n",
        "plt.xlabel('cecha x')\n",
        "plt.ylabel('zmienna docelowa')\n",
        "plt.scatter(data, target, label='cecha x')\n",
        "plt.plot(data, regressor.intercept_ + regressor.coef_[0] * data, color='red', label='model')\n",
        "plt.legend()\n",
        "plt.show()"
      ],
      "execution_count": 0,
      "outputs": []
    },
    {
      "cell_type": "markdown",
      "metadata": {
        "id": "JFuAgYTFyVX0",
        "colab_type": "text"
      },
      "source": [
        "###Regresja z podziałem na zbór treningowy i testowy"
      ]
    },
    {
      "cell_type": "code",
      "metadata": {
        "id": "p7K5gPmGtmQ0",
        "colab_type": "code",
        "colab": {}
      },
      "source": [
        "data, target = make_regression(n_samples=1000, n_features=1, n_targets=1, noise=15.0, random_state=42)\n",
        "\n",
        "print(f'data shape: {data.shape}')\n",
        "print(f'target shape: {target.shape}')"
      ],
      "execution_count": 0,
      "outputs": []
    },
    {
      "cell_type": "code",
      "metadata": {
        "id": "pGjDBhyvyhYR",
        "colab_type": "code",
        "colab": {}
      },
      "source": [
        "from sklearn.model_selection import train_test_split\n",
        "\n",
        "X_train, X_test, y_train, y_test = train_test_split(data, target, random_state=42, test_size=0.25)\n",
        "\n",
        "print(f'X_train shape {X_train.shape}')\n",
        "print(f'y_train shape {y_train.shape}')\n",
        "print(f'X_test shape {X_test.shape}')\n",
        "print(f'y_test shape {y_test.shape}')\n"
      ],
      "execution_count": 0,
      "outputs": []
    },
    {
      "cell_type": "code",
      "metadata": {
        "id": "XhmhkiTIy1M8",
        "colab_type": "code",
        "colab": {}
      },
      "source": [
        "plt.figure(figsize=(8,6))\n",
        "plt.title('Regresa liniowa train vs. test')\n",
        "plt.xlabel('cecha x')\n",
        "plt.ylabel('zmienna docelowa')\n",
        "plt.scatter(X_train, y_train, label='zbiór treningowy', color='gray', alpha=0.5)\n",
        "plt.scatter(X_test, y_test, label='zbiór testowy', color='gold', alpha=0.5)\n",
        "plt.legend()\n",
        "plt.show()"
      ],
      "execution_count": 0,
      "outputs": []
    },
    {
      "cell_type": "code",
      "metadata": {
        "id": "SETanFpnzvgo",
        "colab_type": "code",
        "colab": {}
      },
      "source": [
        "from sklearn.linear_model import LinearRegression\n",
        "\n",
        "regressor = LinearRegression()\n",
        "regressor.fit(X_train, y_train)"
      ],
      "execution_count": 0,
      "outputs": []
    },
    {
      "cell_type": "code",
      "metadata": {
        "id": "YZZc0WBM0ERk",
        "colab_type": "code",
        "colab": {}
      },
      "source": [
        "regressor.score(X_train, y_train)"
      ],
      "execution_count": 0,
      "outputs": []
    },
    {
      "cell_type": "code",
      "metadata": {
        "id": "lk2AzYc-0Sle",
        "colab_type": "code",
        "colab": {}
      },
      "source": [
        "regressor.score(X_test, y_test)"
      ],
      "execution_count": 0,
      "outputs": []
    },
    {
      "cell_type": "markdown",
      "metadata": {
        "id": "qy83qoIU0cES",
        "colab_type": "text"
      },
      "source": [
        "###Regresja liniowa - zbiór tereningowy - wizualizacja"
      ]
    },
    {
      "cell_type": "code",
      "metadata": {
        "id": "yg6NizwQ0ZTd",
        "colab_type": "code",
        "colab": {}
      },
      "source": [
        "plt.figure(figsize=(8,6))\n",
        "plt.title('Regresa liniowa zbiór treningowy')\n",
        "plt.xlabel('cecha x')\n",
        "plt.ylabel('zmienna docelowa')\n",
        "plt.scatter(X_train, y_train, label='zbiór treningowy', color='gray', alpha=0.5)\n",
        "plt.plot(X_train, regressor.intercept_ + regressor.coef_[0] * X_train, color='red')\n",
        "plt.legend()\n",
        "plt.show()"
      ],
      "execution_count": 0,
      "outputs": []
    },
    {
      "cell_type": "markdown",
      "metadata": {
        "id": "-CIZ__l31MBy",
        "colab_type": "text"
      },
      "source": [
        "###Regresja - zbiór testowy - wizualizacja"
      ]
    },
    {
      "cell_type": "code",
      "metadata": {
        "id": "qgmfLfiE00Jv",
        "colab_type": "code",
        "colab": {}
      },
      "source": [
        "plt.figure(figsize=(8,6))\n",
        "plt.title('Regresa liniowa zbiór testowy')\n",
        "plt.xlabel('cecha x')\n",
        "plt.ylabel('zmienna docelowa')\n",
        "plt.scatter(X_test, y_test, label='zbiór testowy', color='gold', alpha=0.5)\n",
        "plt.plot(X_test, regressor.intercept_ + regressor.coef_[0] * X_test, color='red')\n",
        "plt.legend()\n",
        "plt.show()"
      ],
      "execution_count": 0,
      "outputs": []
    },
    {
      "cell_type": "markdown",
      "metadata": {
        "id": "yn4fIeE-1em0",
        "colab_type": "text"
      },
      "source": [
        "###Predykcja na podstawie modelu"
      ]
    },
    {
      "cell_type": "code",
      "metadata": {
        "id": "d3OVGCiv1Y7O",
        "colab_type": "code",
        "colab": {}
      },
      "source": [
        "y_pred = regressor.predict(X_test)\n",
        "\n",
        "predictions = pd.DataFrame(data={'y_true':y_test, 'y_pred': y_pred})\n",
        "predictions"
      ],
      "execution_count": 0,
      "outputs": []
    },
    {
      "cell_type": "code",
      "metadata": {
        "id": "RezZibnE1-AP",
        "colab_type": "code",
        "colab": {}
      },
      "source": [
        "predictions['error'] = predictions['y_true'] - predictions['y_pred']\n",
        "predictions"
      ],
      "execution_count": 0,
      "outputs": []
    },
    {
      "cell_type": "code",
      "metadata": {
        "id": "-bRsQTzk2Eut",
        "colab_type": "code",
        "colab": {}
      },
      "source": [
        "predictions['error'].plot(kind='hist', bins=50, figsize=(8,6))"
      ],
      "execution_count": 0,
      "outputs": []
    },
    {
      "cell_type": "code",
      "metadata": {
        "id": "Xs_PfyR-2kaY",
        "colab_type": "code",
        "colab": {}
      },
      "source": [
        ""
      ],
      "execution_count": 0,
      "outputs": []
    }
  ]
}