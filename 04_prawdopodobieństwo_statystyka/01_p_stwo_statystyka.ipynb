{
  "nbformat": 4,
  "nbformat_minor": 0,
  "metadata": {
    "colab": {
      "name": "01_p_stwo_statystyka.ipynb",
      "provenance": [],
      "authorship_tag": "ABX9TyNedQ6tS9F0uczapPLlxWhM",
      "include_colab_link": true
    },
    "kernelspec": {
      "name": "python3",
      "display_name": "Python 3"
    }
  },
  "cells": [
    {
      "cell_type": "markdown",
      "metadata": {
        "id": "view-in-github",
        "colab_type": "text"
      },
      "source": [
        "<a href=\"https://colab.research.google.com/github/DorotaJanosz/data-science-bootcamp/blob/master/04_prawdopodobie%C5%84stwo_statystyka/01_p_stwo_statystyka.ipynb\" target=\"_parent\"><img src=\"https://colab.research.google.com/assets/colab-badge.svg\" alt=\"Open In Colab\"/></a>"
      ]
    },
    {
      "cell_type": "code",
      "metadata": {
        "id": "gtTd7khF-Lbq",
        "colab_type": "code",
        "colab": {}
      },
      "source": [
        "###Statystyka opisowa"
      ],
      "execution_count": 0,
      "outputs": []
    },
    {
      "cell_type": "code",
      "metadata": {
        "id": "aDROGjUF-XV9",
        "colab_type": "code",
        "colab": {}
      },
      "source": [
        "import numpy as np"
      ],
      "execution_count": 0,
      "outputs": []
    },
    {
      "cell_type": "code",
      "metadata": {
        "id": "zJy2ltj2-bKA",
        "colab_type": "code",
        "outputId": "5c62e08d-a794-463f-fb44-56b411f22513",
        "colab": {
          "base_uri": "https://localhost:8080/",
          "height": 35
        }
      },
      "source": [
        "X = np.array([3, 4.5, 5, 4.5, 3])\n",
        "X.mean()\n",
        "np.mean(X)\n",
        "\n"
      ],
      "execution_count": 0,
      "outputs": [
        {
          "output_type": "execute_result",
          "data": {
            "text/plain": [
              "4.0"
            ]
          },
          "metadata": {
            "tags": []
          },
          "execution_count": 44
        }
      ]
    },
    {
      "cell_type": "code",
      "metadata": {
        "id": "YhY1Bc0j_PZ8",
        "colab_type": "code",
        "outputId": "4dc8dba9-85d1-46c0-ea98-2b7dcad243e0",
        "colab": {
          "base_uri": "https://localhost:8080/",
          "height": 35
        }
      },
      "source": [
        "np.median(X)"
      ],
      "execution_count": 0,
      "outputs": [
        {
          "output_type": "execute_result",
          "data": {
            "text/plain": [
              "4.5"
            ]
          },
          "metadata": {
            "tags": []
          },
          "execution_count": 45
        }
      ]
    },
    {
      "cell_type": "code",
      "metadata": {
        "id": "Uxkrp4X0_nP0",
        "colab_type": "code",
        "outputId": "dcc63413-1670-480c-84c7-e7ca2ca179dd",
        "colab": {
          "base_uri": "https://localhost:8080/",
          "height": 90
        }
      },
      "source": [
        "#Bład średni\n",
        "X = [3.5, 4, 4]\n",
        "Y = [2, 4, 5]\n",
        "\n",
        "X_mean = np.mean(X)\n",
        "Y_mean = np.mean(Y)\n",
        "\n",
        "b_X = 1/len(X) * (abs(X-X_mean).sum())\n",
        "b_Y = 1/len(Y) * (abs(Y-Y_mean).sum())\n",
        "\n",
        "print(f'Średni błąd X to {b_X:.4f}')\n",
        "print(f'Średni błąd Y to {b_Y:.4f}')\n",
        "print('Średni błąd Y to {:.4f}'.format(b_Y))\n",
        "print('Średnia bła Y to %.4f'%b_Y)"
      ],
      "execution_count": 0,
      "outputs": [
        {
          "output_type": "stream",
          "text": [
            "Średni błąd X to 0.2222\n",
            "Średni błąd Y to 1.1111\n",
            "Średni błąd Y to 1.1111\n",
            "Średnia bła Y to 1.1111\n"
          ],
          "name": "stdout"
        }
      ]
    },
    {
      "cell_type": "code",
      "metadata": {
        "id": "M788Z7E_BBBN",
        "colab_type": "code",
        "outputId": "1908ed81-f1ca-4e76-9f87-5d0e47cf9bd6",
        "colab": {
          "base_uri": "https://localhost:8080/",
          "height": 35
        }
      },
      "source": [
        "np.var(X)\n",
        "np.var(Y)\n"
      ],
      "execution_count": 0,
      "outputs": [
        {
          "output_type": "execute_result",
          "data": {
            "text/plain": [
              "1.5555555555555554"
            ]
          },
          "metadata": {
            "tags": []
          },
          "execution_count": 47
        }
      ]
    },
    {
      "cell_type": "code",
      "metadata": {
        "id": "G1kAp-ecFmAO",
        "colab_type": "code",
        "outputId": "d3d342c6-cd70-44b3-8665-de1d868bae82",
        "colab": {
          "base_uri": "https://localhost:8080/",
          "height": 35
        }
      },
      "source": [
        "np.std(X)"
      ],
      "execution_count": 0,
      "outputs": [
        {
          "output_type": "execute_result",
          "data": {
            "text/plain": [
              "0.23570226039551584"
            ]
          },
          "metadata": {
            "tags": []
          },
          "execution_count": 48
        }
      ]
    },
    {
      "cell_type": "code",
      "metadata": {
        "id": "nmqItzJxGCz3",
        "colab_type": "code",
        "colab": {}
      },
      "source": [
        "###Przestrzeń klasyczna"
      ],
      "execution_count": 0,
      "outputs": []
    },
    {
      "cell_type": "code",
      "metadata": {
        "id": "mvY4siRjIdB6",
        "colab_type": "code",
        "outputId": "d96c649f-ba7f-4b3b-ec1b-2e4c9442c7e7",
        "colab": {
          "base_uri": "https://localhost:8080/",
          "height": 35
        }
      },
      "source": [
        "omega = {1, 2, 3, 4, 5, 6}\n",
        "A = {item for item in omega if item % 2 == 0}\n",
        "\n",
        "P_A = len(A) / len(omega)\n",
        "print('Prawdopodobieństwo zdarzenia A wynosi', P_A)"
      ],
      "execution_count": 0,
      "outputs": [
        {
          "output_type": "stream",
          "text": [
            "Prawdopodobieństwo zdarzenia A wynosi 0.5\n"
          ],
          "name": "stdout"
        }
      ]
    },
    {
      "cell_type": "code",
      "metadata": {
        "id": "blX4cQkUIvtf",
        "colab_type": "code",
        "outputId": "f65d97cc-7a47-44b5-82e0-c9d24de5dc39",
        "colab": {
          "base_uri": "https://localhost:8080/",
          "height": 35
        }
      },
      "source": [
        "B = {item for item in omega if item > 4}\n",
        "P_B = len(B) / len(omega)\n",
        "print('Prawdopodobieństwo zdarzenia B wynosi {:.4f}'.format(P_B))"
      ],
      "execution_count": 0,
      "outputs": [
        {
          "output_type": "stream",
          "text": [
            "Prawdopodobieństwo zdarzenia B wynosi 0.3333\n"
          ],
          "name": "stdout"
        }
      ]
    },
    {
      "cell_type": "code",
      "metadata": {
        "id": "b3AQkwswJxSU",
        "colab_type": "code",
        "colab": {}
      },
      "source": [
        "###Niezależność zdarzeń"
      ],
      "execution_count": 0,
      "outputs": []
    },
    {
      "cell_type": "code",
      "metadata": {
        "id": "mAwNg18LKqFT",
        "colab_type": "code",
        "colab": {}
      },
      "source": [
        "intersection_AB = set.intersection(A,B)\n",
        "P_intersection_AB = len(intersection_AB) / len(omega)\n",
        "\n",
        "PA_PB = P_A * P_B"
      ],
      "execution_count": 0,
      "outputs": []
    },
    {
      "cell_type": "code",
      "metadata": {
        "id": "QCwFVTXdKxXD",
        "colab_type": "code",
        "outputId": "7820c76a-56fd-4da0-cd1b-c22c09a17f19",
        "colab": {
          "base_uri": "https://localhost:8080/",
          "height": 90
        }
      },
      "source": [
        "print('Przecięcie zbioru A i B to', intersection_AB)\n",
        "print('Prawdopodobieństwo iloczynu zdarzeń A i B to {:.4f}'.format(P_intersection_AB))\n",
        "print('Iloczyn prawdopodobieństw zdarzeń A i B to {:.4f}'.format(PA_PB))\n",
        "\n",
        "check = 'Zdarzenia niezależne' if P_intersection_AB == PA_PB else 'Zdarzenia zależne'\n",
        "print(check)"
      ],
      "execution_count": 0,
      "outputs": [
        {
          "output_type": "stream",
          "text": [
            "Przecięcie zbioru A i B to {6}\n",
            "Prawdopodobieństwo iloczynu zdarzeń A i B to 0.1667\n",
            "Iloczyn prawdopodobieństw zdarzeń A i B to 0.1667\n",
            "Zdarzenia niezależne\n"
          ],
          "name": "stdout"
        }
      ]
    },
    {
      "cell_type": "code",
      "metadata": {
        "id": "Ybfzw28sLtl9",
        "colab_type": "code",
        "colab": {}
      },
      "source": [
        "###Prawdopodobieństwo warunkowe"
      ],
      "execution_count": 0,
      "outputs": []
    },
    {
      "cell_type": "code",
      "metadata": {
        "id": "k7UNUNKflrpM",
        "colab_type": "code",
        "outputId": "18899e9e-7078-4193-b639-85aa01667ec7",
        "colab": {
          "base_uri": "https://localhost:8080/",
          "height": 72
        }
      },
      "source": [
        "print('A = ', A)\n",
        "print('B = ', B)\n",
        "print('Przecięcie A i B = ', intersection_AB)"
      ],
      "execution_count": 0,
      "outputs": [
        {
          "output_type": "stream",
          "text": [
            "A =  {2, 4, 6}\n",
            "B =  {5, 6}\n",
            "Przecięcie A i B =  {6}\n"
          ],
          "name": "stdout"
        }
      ]
    },
    {
      "cell_type": "code",
      "metadata": {
        "id": "bhRejpVcmAPQ",
        "colab_type": "code",
        "outputId": "ed456e3c-a29a-485d-a823-834179dfcf82",
        "colab": {
          "base_uri": "https://localhost:8080/",
          "height": 35
        }
      },
      "source": [
        "PA_B = len(intersection_AB)/ len(B)\n",
        "print('Prawdopodobieństwo wylosowania lilczby parzytej pod warunkiem, że wylosowaliśmy liczby większe niż 4 wynosi', PA_B)"
      ],
      "execution_count": 0,
      "outputs": [
        {
          "output_type": "stream",
          "text": [
            "Prawdopodobieństwo wylosowania lilczby parzytej pod warunkiem, że wylosowaliśmy liczby większe niż 4 wynosi 0.5\n"
          ],
          "name": "stdout"
        }
      ]
    },
    {
      "cell_type": "code",
      "metadata": {
        "id": "Jhm2qKSQmRvl",
        "colab_type": "code",
        "colab": {}
      },
      "source": [
        "###Korelacja"
      ],
      "execution_count": 0,
      "outputs": []
    },
    {
      "cell_type": "code",
      "metadata": {
        "id": "wlQbSGefvuDm",
        "colab_type": "code",
        "outputId": "00c0099c-696c-4c46-a8a5-3d44154b07df",
        "colab": {
          "base_uri": "https://localhost:8080/",
          "height": 72
        }
      },
      "source": [
        "x = np.random.randn(5)\n",
        "y = np.random.randn(5)\n",
        "\n",
        "print(x, '\\n')\n",
        "print(y)\n"
      ],
      "execution_count": 0,
      "outputs": [
        {
          "output_type": "stream",
          "text": [
            "[ 0.63691486 -1.85109971  0.38252813  0.30151651 -0.96087165] \n",
            "\n",
            "[ 2.1257201   1.96957475  0.85332597 -1.79703144  0.72522274]\n"
          ],
          "name": "stdout"
        }
      ]
    },
    {
      "cell_type": "code",
      "metadata": {
        "id": "0ybJuAeKv6xn",
        "colab_type": "code",
        "outputId": "3239a189-008d-468f-bcaf-3ccc1483efde",
        "colab": {
          "base_uri": "https://localhost:8080/",
          "height": 35
        }
      },
      "source": [
        "x.mean()\n"
      ],
      "execution_count": 0,
      "outputs": [
        {
          "output_type": "execute_result",
          "data": {
            "text/plain": [
              "-0.29820237251868037"
            ]
          },
          "metadata": {
            "tags": []
          },
          "execution_count": 60
        }
      ]
    },
    {
      "cell_type": "code",
      "metadata": {
        "id": "RWQ4Waetv8vi",
        "colab_type": "code",
        "outputId": "f5faf74e-36cf-4d1b-b540-1dc2baa6cada",
        "colab": {
          "base_uri": "https://localhost:8080/",
          "height": 35
        }
      },
      "source": [
        "np.std(x)"
      ],
      "execution_count": 0,
      "outputs": [
        {
          "output_type": "execute_result",
          "data": {
            "text/plain": [
              "0.9537422821353493"
            ]
          },
          "metadata": {
            "tags": []
          },
          "execution_count": 61
        }
      ]
    },
    {
      "cell_type": "code",
      "metadata": {
        "id": "T4T7Eq7-v-yb",
        "colab_type": "code",
        "outputId": "b2af1c21-e99a-423d-aab6-2ce24018b8ee",
        "colab": {
          "base_uri": "https://localhost:8080/",
          "height": 53
        }
      },
      "source": [
        "np.corrcoef(x, y)"
      ],
      "execution_count": 0,
      "outputs": [
        {
          "output_type": "execute_result",
          "data": {
            "text/plain": [
              "array([[ 1.        , -0.30561209],\n",
              "       [-0.30561209,  1.        ]])"
            ]
          },
          "metadata": {
            "tags": []
          },
          "execution_count": 62
        }
      ]
    },
    {
      "cell_type": "code",
      "metadata": {
        "id": "g2Jy-TP7wa66",
        "colab_type": "code",
        "colab": {}
      },
      "source": [
        "###Rozkład normalny"
      ],
      "execution_count": 0,
      "outputs": []
    },
    {
      "cell_type": "code",
      "metadata": {
        "id": "xQzpft5nwpuj",
        "colab_type": "code",
        "colab": {}
      },
      "source": [
        "import matplotlib.pyplot as plt\n",
        "import seaborn as sns\n",
        "from scipy.stats import norm\n",
        "sns.set()"
      ],
      "execution_count": 0,
      "outputs": []
    },
    {
      "cell_type": "code",
      "metadata": {
        "id": "1UcnbV-9w9Zn",
        "colab_type": "code",
        "outputId": "658bca98-065a-497d-a3b1-d7c0a1dd9f7a",
        "colab": {
          "base_uri": "https://localhost:8080/",
          "height": 284
        }
      },
      "source": [
        "mu = 0\n",
        "sigma = 1\n",
        "x = np.linspace(mu - 3 * sigma, mu + 3 * sigma, 100 ) \n",
        "\n",
        "plt.title('Rozkład normalny - funkcja gęstości')\n",
        "_ = plt.plot(x, norm.pdf(x, mu, sigma))"
      ],
      "execution_count": 0,
      "outputs": [
        {
          "output_type": "display_data",
          "data": {
            "image/png": "[encoded data removed]",
            "text/plain": [
              "<Figure size 432x288 with 1 Axes>"
            ]
          },
          "metadata": {
            "tags": []
          }
        }
      ]
    },
    {
      "cell_type": "code",
      "metadata": {
        "id": "uQR7eFJNx0xV",
        "colab_type": "code",
        "outputId": "02c6566d-6226-40e5-fe54-dbe07cda4074",
        "colab": {
          "base_uri": "https://localhost:8080/",
          "height": 503
        }
      },
      "source": [
        "x = np.linspace(mu - 5 * sigma, mu + 5 * sigma, 100 ) \n",
        "params = [(0,1), (0,2), (0, 0.5)]\n",
        "\n",
        "plt.figure(figsize=(8,8))\n",
        "for mu, sigma in params:\n",
        "  plt.plot(x, norm.pdf(x, mu, sigma), label='mu ={}, sigma={}'.format(mu, sigma)) \n",
        "plt.legend()\n"
      ],
      "execution_count": 0,
      "outputs": [
        {
          "output_type": "execute_result",
          "data": {
            "text/plain": [
              "<matplotlib.legend.Legend at 0x7f5f1a0f4be0>"
            ]
          },
          "metadata": {
            "tags": []
          },
          "execution_count": 66
        },
        {
          "output_type": "display_data",
          "data": {
            "image/png": "[encoded data removed]",
            "text/plain": [
              "<Figure size 576x576 with 1 Axes>"
            ]
          },
          "metadata": {
            "tags": []
          }
        }
      ]
    },
    {
      "cell_type": "code",
      "metadata": {
        "id": "59zjEAg-0fJ8",
        "colab_type": "code",
        "colab": {}
      },
      "source": [
        "###Standaryzacja"
      ],
      "execution_count": 0,
      "outputs": []
    },
    {
      "cell_type": "code",
      "metadata": {
        "id": "85EaYpAv91NT",
        "colab_type": "code",
        "outputId": "b905dc58-9ac0-437a-8ff2-10ab24fd96fe",
        "colab": {
          "base_uri": "https://localhost:8080/",
          "height": 286
        }
      },
      "source": [
        "mu = 10\n",
        "sigma = 3\n",
        "x = np.linspace(mu - 8 * sigma, mu + 8 * sigma, 500)\n",
        "\n",
        "plt.plot(x, norm.pdf(x, mu, sigma), label='mu={}, sigma={}'.format(mu, sigma))\n",
        "plt.plot(x, norm.pdf(x, mu - mu, sigma), label='mu={}, sigma={}'.format(mu-mu, sigma))\n",
        "plt.plot(x, norm.pdf(x,mu-mu, sigma / sigma), label='mu={}, sigma={}'.format(mu-mu, sigma))\n",
        "\n",
        "plt.legend()"
      ],
      "execution_count": 0,
      "outputs": [
        {
          "output_type": "execute_result",
          "data": {
            "text/plain": [
              "<matplotlib.legend.Legend at 0x7f5f19f8bf98>"
            ]
          },
          "metadata": {
            "tags": []
          },
          "execution_count": 68
        },
        {
          "output_type": "display_data",
          "data": {
            "image/png": "[encoded data removed]",
            "text/plain": [
              "<Figure size 432x288 with 1 Axes>"
            ]
          },
          "metadata": {
            "tags": []
          }
        }
      ]
    },
    {
      "cell_type": "code",
      "metadata": {
        "id": "rPyKA1ss-kU5",
        "colab_type": "code",
        "colab": {}
      },
      "source": [
        "### Wykres dystrybuanty"
      ],
      "execution_count": 0,
      "outputs": []
    },
    {
      "cell_type": "code",
      "metadata": {
        "id": "3sEXXANDBp_V",
        "colab_type": "code",
        "outputId": "aa57794a-60c1-4573-d3f4-ac1fceb270de",
        "colab": {
          "base_uri": "https://localhost:8080/",
          "height": 284
        }
      },
      "source": [
        "plt.title('Rozkład normalny - dystrybuanta')\n",
        "_ = plt.plot(x, norm.cdf(x, mu, sigma)) \n"
      ],
      "execution_count": 0,
      "outputs": [
        {
          "output_type": "display_data",
          "data": {
            "image/png": "[encoded data removed]",
            "text/plain": [
              "<Figure size 432x288 with 1 Axes>"
            ]
          },
          "metadata": {
            "tags": []
          }
        }
      ]
    },
    {
      "cell_type": "code",
      "metadata": {
        "id": "IQ70kvqLDCe5",
        "colab_type": "code",
        "outputId": "3646d4cb-daf4-4269-b5eb-a0ea35b99c34",
        "colab": {
          "base_uri": "https://localhost:8080/",
          "height": 284
        }
      },
      "source": [
        "plt.title('Rozkład normany - funkcja przeżycia')\n",
        "\n",
        "_ = plt.plot(x, norm.sf(x, mu, sigma))"
      ],
      "execution_count": 0,
      "outputs": [
        {
          "output_type": "display_data",
          "data": {
            "image/png": "[encoded data removed]",
            "text/plain": [
              "<Figure size 432x288 with 1 Axes>"
            ]
          },
          "metadata": {
            "tags": []
          }
        }
      ]
    },
    {
      "cell_type": "code",
      "metadata": {
        "id": "xrR2WQ0gEB3P",
        "colab_type": "code",
        "colab": {}
      },
      "source": [
        ""
      ],
      "execution_count": 0,
      "outputs": []
    }
  ]
}